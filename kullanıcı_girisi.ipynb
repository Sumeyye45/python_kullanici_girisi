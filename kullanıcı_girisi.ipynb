{
 "cells": [
  {
   "cell_type": "code",
   "execution_count": 10,
   "id": "2f910e49",
   "metadata": {},
   "outputs": [
    {
     "name": "stdout",
     "output_type": "stream",
     "text": [
      "Kullanıcı Girişi\n"
     ]
    }
   ],
   "source": [
    "print(\"Kullanıcı Girişi\")\n"
   ]
  },
  {
   "cell_type": "code",
   "execution_count": 11,
   "id": "b5c9d8a4",
   "metadata": {},
   "outputs": [],
   "source": [
    "sys_kullanici_adi = \"sumeyye\"\n",
    "sys_kullanici_sifre = \"12345\"\n",
    "\n"
   ]
  },
  {
   "cell_type": "code",
   "execution_count": 12,
   "id": "93304481",
   "metadata": {},
   "outputs": [
    {
     "name": "stdout",
     "output_type": "stream",
     "text": [
      "Kullanici adi:sumeyye\n",
      "kullanici sifre:12345\n",
      "Sisteme Giriş Yapıldı.\n"
     ]
    }
   ],
   "source": [
    "kullanici_adi = input(\"Kullanici adi:\")\n",
    "kullanici_sifre = input(\"kullanici sifre:\")\n",
    "\n",
    "if sys_kullanici_adi == kullanici_adi and sys_kullanici_sifre !=kullanici_sifre:\n",
    "    print(\"Parola hatalı...\")\n",
    "    \n",
    "    \n",
    "elif sys_kullanici_adi != kullanici_adi and sys_kullanici_sifre ==kullanici_sifre:\n",
    "    print(\"Kullanici adi hatali.\")\n",
    "\n",
    "elif sys_kullanici_adi != kullanici_adi and kullanici_sifre != sys_kullanici_sifre:\n",
    "    print(\"Kullanıcı Adı ve Parola Hatalı... \")\n",
    "\n",
    "else:\n",
    "    print(\"Sisteme Giriş Yapıldı.\")\n",
    "\n",
    "\n",
    "\n"
   ]
  },
  {
   "cell_type": "code",
   "execution_count": null,
   "id": "5ec3d690",
   "metadata": {},
   "outputs": [],
   "source": []
  }
 ],
 "metadata": {
  "kernelspec": {
   "display_name": "Python 3 (ipykernel)",
   "language": "python",
   "name": "python3"
  },
  "language_info": {
   "codemirror_mode": {
    "name": "ipython",
    "version": 3
   },
   "file_extension": ".py",
   "mimetype": "text/x-python",
   "name": "python",
   "nbconvert_exporter": "python",
   "pygments_lexer": "ipython3",
   "version": "3.9.13"
  }
 },
 "nbformat": 4,
 "nbformat_minor": 5
}
